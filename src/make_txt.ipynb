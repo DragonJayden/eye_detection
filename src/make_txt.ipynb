{
 "cells": [
  {
   "cell_type": "code",
   "execution_count": 5,
   "id": "e7bf8a77",
   "metadata": {},
   "outputs": [],
   "source": [
    "import os\n",
    "\n",
    "positive_path = '../haarTraining/positive/'\n",
    "negative_path = '../haarTraining/negative'\n",
    "\n",
    "positive_list = os.listdir(positive_path)\n",
    "negative_list = os.listdir(negative_path)\n",
    "\n",
    "pos = open('../haarTraining/positive.txt', mode='wt', encoding='utf-8')\n",
    "neg = open('../haarTraining/negative.txt', mode='wt', encoding='utf-8')\n",
    "\n",
    "for i in positive_list :\n",
    "    pos.write('positive/' + i + '\\n')\n",
    "\n",
    "for j in negative_list :\n",
    "    neg.write('negative/' + j + '\\n')\n",
    "    \n",
    "pos.close()\n",
    "neg.close()"
   ]
  }
 ],
 "metadata": {
  "kernelspec": {
   "display_name": "Python 3",
   "language": "python",
   "name": "python3"
  },
  "language_info": {
   "codemirror_mode": {
    "name": "ipython",
    "version": 3
   },
   "file_extension": ".py",
   "mimetype": "text/x-python",
   "name": "python",
   "nbconvert_exporter": "python",
   "pygments_lexer": "ipython3",
   "version": "3.8.8"
  }
 },
 "nbformat": 4,
 "nbformat_minor": 5
}
