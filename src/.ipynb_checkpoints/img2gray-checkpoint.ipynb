{
 "cells": [
  {
   "cell_type": "code",
   "execution_count": 18,
   "id": "efa57597",
   "metadata": {},
   "outputs": [],
   "source": [
    "import cv2\n",
    "import os\n",
    "# rgb 이미지 불러오기\n",
    "img_path = '../db/rawdata/'\n",
    "\n",
    "for i in range (1, 845) :\n",
    "    rgb_image = cv2.imread(img_path + 'raw_' + str(i) + '.jpg')\n",
    "\n",
    "    # rgb 이미지 보기\n",
    "    cv2.imshow('rgb_image', rgb_image)\n",
    "\n",
    "    # gray_scale 이미지 불러오기\n",
    "    gray_image = cv2.imread(img_path + 'raw_' + str(i) + '.jpg', 0) # 인수를 0으로 전달하면 gray 이미지가 로드된다.\n",
    "\n",
    "    # gray 이미지 보기\n",
    "    cv2.imshow('gray_image', gray_image)\n",
    "\n",
    "    cv2.imwrite('G_'+ str(i) +'.jpg', gray_image)"
   ]
  }
 ],
 "metadata": {
  "kernelspec": {
   "display_name": "Python 3",
   "language": "python",
   "name": "python3"
  },
  "language_info": {
   "codemirror_mode": {
    "name": "ipython",
    "version": 3
   },
   "file_extension": ".py",
   "mimetype": "text/x-python",
   "name": "python",
   "nbconvert_exporter": "python",
   "pygments_lexer": "ipython3",
   "version": "3.8.8"
  }
 },
 "nbformat": 4,
 "nbformat_minor": 5
}
