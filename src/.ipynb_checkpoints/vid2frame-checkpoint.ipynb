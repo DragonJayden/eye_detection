{
 "cells": [
  {
   "cell_type": "code",
   "execution_count": 23,
   "id": "ff7c71ee",
   "metadata": {},
   "outputs": [
    {
     "ename": "SyntaxError",
     "evalue": "(unicode error) 'unicodeescape' codec can't decode bytes in position 2-3: truncated \\UXXXXXXXX escape (<ipython-input-23-6d161e4ad945>, line 13)",
     "output_type": "error",
     "traceback": [
      "\u001b[1;36m  File \u001b[1;32m\"<ipython-input-23-6d161e4ad945>\"\u001b[1;36m, line \u001b[1;32m13\u001b[0m\n\u001b[1;33m    vidcap = cv2.VideoCapture('C:\\Users\\Jayden\\Desktop\\Jupyter_notebook\\Move_Z\\data\\4_forward.mp4')\u001b[0m\n\u001b[1;37m                              ^\u001b[0m\n\u001b[1;31mSyntaxError\u001b[0m\u001b[1;31m:\u001b[0m (unicode error) 'unicodeescape' codec can't decode bytes in position 2-3: truncated \\UXXXXXXXX escape\n"
     ]
    }
   ],
   "source": [
    "import os\n",
    "import cv2\n",
    "\n",
    "vid_path = '../db/original/'\n",
    "csv_path = '../db/csv/'\n",
    "\n",
    "try: \n",
    "    if not(os.path.isdir(csv_path + 'amy_left')):\n",
    "        os.makedirs(os.path.join(vid_pa + 'amy_'))\n",
    "except OSError as e:\n",
    "    if e.errno != errno.EEXIST:\n",
    "        print(\"Failed to create directory\")\n",
    "        raise\n",
    "\n",
    "        \n",
    "vidcap = cv2.VideoCapture('4_forward.mp4')\n",
    "        \n",
    "cnt = 1\n",
    "success = True\n",
    "        \n",
    "while success :\n",
    "    success, img = vidcap.read()\n",
    "    cv2.imwrite('%d.jpg' % cnt, img)\n",
    "    print(\"saved image %d.jpg\" % cnt)\n",
    "    \n",
    "    if cv2.waitKey(10) == 27:\n",
    "        break\n",
    "        \n",
    "    cnt += 1"
   ]
  },
  {
   "cell_type": "code",
   "execution_count": null,
   "id": "0df72958",
   "metadata": {},
   "outputs": [],
   "source": []
  },
  {
   "cell_type": "code",
   "execution_count": null,
   "id": "865e6054",
   "metadata": {},
   "outputs": [],
   "source": []
  },
  {
   "cell_type": "code",
   "execution_count": null,
   "id": "7036e69d",
   "metadata": {},
   "outputs": [],
   "source": []
  }
 ],
 "metadata": {
  "kernelspec": {
   "display_name": "Python 3",
   "language": "python",
   "name": "python3"
  },
  "language_info": {
   "codemirror_mode": {
    "name": "ipython",
    "version": 3
   },
   "file_extension": ".py",
   "mimetype": "text/x-python",
   "name": "python",
   "nbconvert_exporter": "python",
   "pygments_lexer": "ipython3",
   "version": "3.8.8"
  }
 },
 "nbformat": 4,
 "nbformat_minor": 5
}
