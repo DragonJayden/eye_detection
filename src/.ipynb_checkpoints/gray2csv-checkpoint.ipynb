{
 "cells": [
  {
   "cell_type": "code",
   "execution_count": 48,
   "id": "2f376240",
   "metadata": {
    "scrolled": true
   },
   "outputs": [],
   "source": [
    "import numpy as np\n",
    "from PIL import Image\n",
    "import csv\n",
    "import os \n",
    "\n",
    "gray_path = '../db/gray/'\n",
    "img_p\n",
    "\n",
    "img_list = os.listdir(path)\n",
    "\n",
    "try: \n",
    "    if not(os.path.isdir(path + '/gray')):\n",
    "        os.makedirs(os.path.join(path + '/gray'))\n",
    "except OSError as e:\n",
    "    if e.errno != errno.EEXIST:\n",
    "        print(\"Failed to create directory\")\n",
    "        raise\n",
    "\n",
    "for j in range (1, len(img_list)+1):\n",
    "    img_name = (path + '/%d.jpg' % j)\n",
    "    im = Image.open(img_name).convert(\"L\")\n",
    "\n",
    "    pic_size = im.size\n",
    "    pix = np.array(im)\n",
    "\n",
    "    cnt = 1\n",
    "\n",
    "    f = open(path + '/gray/%d.csv' % j, 'w', encoding='utf-8')\n",
    "    wr = csv.writer(f)\n",
    "\n",
    "    for i in range(0,pic_size[1]):\n",
    "        wr.writerow(pix[i][:])\n",
    "\n",
    "    f.close()\n",
    "    "
   ]
  },
  {
   "cell_type": "code",
   "execution_count": null,
   "id": "15868b5e",
   "metadata": {},
   "outputs": [],
   "source": []
  }
 ],
 "metadata": {
  "kernelspec": {
   "display_name": "Python 3",
   "language": "python",
   "name": "python3"
  },
  "language_info": {
   "codemirror_mode": {
    "name": "ipython",
    "version": 3
   },
   "file_extension": ".py",
   "mimetype": "text/x-python",
   "name": "python",
   "nbconvert_exporter": "python",
   "pygments_lexer": "ipython3",
   "version": "3.8.8"
  }
 },
 "nbformat": 4,
 "nbformat_minor": 5
}
